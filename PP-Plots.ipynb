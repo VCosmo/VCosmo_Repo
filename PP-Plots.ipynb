{
  "nbformat": 4,
  "nbformat_minor": 0,
  "metadata": {
    "colab": {
      "provenance": [],
      "include_colab_link": true
    },
    "kernelspec": {
      "name": "python3",
      "display_name": "Python 3"
    },
    "language_info": {
      "name": "python"
    }
  },
  "cells": [
    {
      "cell_type": "markdown",
      "metadata": {
        "id": "view-in-github",
        "colab_type": "text"
      },
      "source": [
        "<a href=\"https://colab.research.google.com/github/VCosmo/VCosmo_Repo/blob/main/PPP.ipynb\" target=\"_parent\"><img src=\"https://colab.research.google.com/assets/colab-badge.svg\" alt=\"Open In Colab\"/></a>"
      ]
    },
    {
      "cell_type": "code",
      "source": [
        "from gal4H0 import *\n",
        "import pickle\n",
        "from scipy.integrate import cumtrapz\n",
        "import scipy"
      ],
      "metadata": {
        "id": "ArNXt-_aw55R"
      },
      "execution_count": null,
      "outputs": []
    },
    {
      "cell_type": "code",
      "source": [
        "cosmo=FlatLambdaCDM(H0=70.,Om0=0.25)"
      ],
      "metadata": {
        "id": "KePDSyodw5v5"
      },
      "execution_count": null,
      "outputs": []
    },
    {
      "cell_type": "code",
      "execution_count": null,
      "metadata": {
        "id": "rBjcFEbqw1Ai"
      },
      "outputs": [],
      "source": [
        "def combine_H0(data_struct,ev_idx):\n",
        "    pos_single=np.log(data_struct['single_pos'][ev_idx,:])\n",
        "    combined=np.sum(pos_single,axis=0)\n",
        "    combined-=combined.max()\n",
        "    combined=np.exp(combined)\n",
        "    combined/=np.trapz(combined,data_struct['H0_grid'])\n",
        "    return combined\n",
        "\n",
        "\n",
        "def pp_curve_2(CI,H0_posteriors,H0_grid,H0_truths,plotsigma=False,Nevents=None):\n",
        "    Nrep=len(H0_posteriors['single_pos'])\n",
        "\n",
        "    if Nevents is None:\n",
        "        Nevents=H0_posteriors['single_pos'][0].shape[0]\n",
        "\n",
        "    ci_fall=np.zeros(Nrep)\n",
        "    for i in range(Nrep):\n",
        "        pos_single=np.log(H0_posteriors['single_pos'][i])\n",
        "        combined=np.sum(pos_single[:Nevents:],axis=0)\n",
        "        combined-=combined.max()\n",
        "        combined=np.exp(combined)\n",
        "        combined/=np.trapz(combined,H0_grid)\n",
        "        cumulative=cumtrapz(combined,H0_grid)\n",
        "        ci_fall[i]=cumulative[np.digitize(H0_truths[i],H0_grid)-1]\n",
        "\n",
        "\n",
        "    if plotsigma:\n",
        "        for ci, alpha in zip([0.68, 0.95, 0.997],[0.1,0.15,0.2]):\n",
        "            edge_of_bound = (1. - ci) / 2.\n",
        "            lower = scipy.stats.binom.ppf(1 - edge_of_bound, Nrep, CI) / Nrep\n",
        "            upper = scipy.stats.binom.ppf(edge_of_bound, Nrep, CI) / Nrep\n",
        "            lower[0] = 0\n",
        "            upper[0] = 0\n",
        "            plt.fill_between(CI, lower, upper, alpha=alpha, color='k')\n",
        "\n",
        "    cc = plt.hist(ci_fall,bins=np.linspace(0,1,len(H0_truths)),density='True',cumulative=True,alpha=0.)\n",
        "\n",
        "    ppplot, edges = cc[0], cc[1]\n",
        "\n",
        "    return ppplot,(edges[1::]+edges[:-1:])*0.5\n"
      ]
    },
    {
      "cell_type": "code",
      "source": [
        "plt.figure(figsize=(3.3,2.0))\n",
        "\n",
        "CI=np.linspace(0,0.99,1000)\n",
        "plt.plot(CI,CI,ls='--',color='k')\n",
        "\n",
        "plt.title('Consistency')\n",
        "\n",
        "\n",
        "singlepos=pickle.load(open('/pp-plots_data/6_0_20perc_acc.p', 'rb'))\n",
        "ppplot,ed=pp_curve_2(CI,singlepos,singlepos['H0_grid'],singlepos['true_H0'],plotsigma=True,Nevents=10)\n",
        "plt.plot(ed,ppplot,color=pal[0],label=r'$\\alpha - \\alpha_T = -1%$')\n",
        "ppplot\n",
        "\n",
        "singlepos=pickle.load(open('/pp-plots_data/6_1_20perc_acc.p', 'rb'))\n",
        "ppplot,ed=pp_curve_2(CI,singlepos,singlepos['H0_grid'],singlepos['true_H0'],plotsigma=False,Nevents=10)\n",
        "plt.plot(ed,ppplot,color=pal[1],label=r'$\\alpha - \\alpha_T = 0%$')\n",
        "\n",
        "singlepos=pickle.load(open('/pp-plots_data/6_2_20perc_acc.p', 'rb'))\n",
        "ppplot,ed=pp_curve_2(CI,singlepos,singlepos['H0_grid'],singlepos['true_H0'],plotsigma=False,Nevents=10)\n",
        "plt.plot(ed,ppplot,color=pal[2],label=r'$\\alpha - \\alpha_T = 1%$')\n",
        "\n",
        "\n",
        "plt.legend(fontsize=5)\n",
        "plt.xlabel(r'Credible interval [C.I.]')\n",
        "plt.ylabel(r'Fraction runs in C.I.')\n",
        "plt.xlim([0,1])\n",
        "plt.ylim([0,1])\n",
        "\n",
        "#plt.tight_layout()\n",
        "plt.savefig('/home/Virgo_Lab/PP_plots/pp1_100_1000_100rep.png')"
      ],
      "metadata": {
        "id": "k7wRLQITxMAI"
      },
      "execution_count": null,
      "outputs": []
    }
  ]
}
